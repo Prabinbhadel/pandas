{
 "cells": [
  {
   "cell_type": "code",
   "execution_count": 1,
   "id": "dfa3bddb-ea9b-4f6a-858b-ffe0cf724b5d",
   "metadata": {},
   "outputs": [],
   "source": [
    "import pandas as pd"
   ]
  },
  {
   "cell_type": "code",
   "execution_count": 4,
   "id": "14686b00-1ae0-4334-b9dd-f20d4bab7497",
   "metadata": {},
   "outputs": [],
   "source": [
    "dis={\"a\":[1,2,3,4,5],\"b\":[2,3,4,5,6],\"c\":[3,4,5,6,7]}\n",
    "d=pd.DataFrame(dis)"
   ]
  },
  {
   "cell_type": "code",
   "execution_count": 6,
   "id": "76909778-5698-47eb-a051-1893d42461b9",
   "metadata": {},
   "outputs": [
    {
     "name": "stdout",
     "output_type": "stream",
     "text": [
      "   a  b  c\n",
      "0  1  2  3\n",
      "1  2  3  4\n",
      "2  3  4  5\n",
      "3  4  5  6\n",
      "4  5  6  7\n"
     ]
    }
   ],
   "source": [
    "print(d)\n",
    "d.to_csv(\"test.csv\")\n"
   ]
  },
  {
   "cell_type": "code",
   "execution_count": 8,
   "id": "f949b2e9-a970-497a-a31c-82a8683ef83e",
   "metadata": {},
   "outputs": [],
   "source": [
    "d.to_csv(\"test2.csv\",index=False,header=False)"
   ]
  },
  {
   "cell_type": "code",
   "execution_count": null,
   "id": "93e117d9-02d7-446a-a6f4-f0139eacffbf",
   "metadata": {},
   "outputs": [],
   "source": [
    ")"
   ]
  }
 ],
 "metadata": {
  "kernelspec": {
   "display_name": "Python 3 (ipykernel)",
   "language": "python",
   "name": "python3"
  },
  "language_info": {
   "codemirror_mode": {
    "name": "ipython",
    "version": 3
   },
   "file_extension": ".py",
   "mimetype": "text/x-python",
   "name": "python",
   "nbconvert_exporter": "python",
   "pygments_lexer": "ipython3",
   "version": "3.12.1"
  }
 },
 "nbformat": 4,
 "nbformat_minor": 5
}
