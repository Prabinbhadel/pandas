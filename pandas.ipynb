{
 "cells": [
  {
   "cell_type": "code",
   "execution_count": 1,
   "id": "673527d3-ffeb-4e10-8097-3870fe664133",
   "metadata": {},
   "outputs": [],
   "source": [
    "import pandas as pd"
   ]
  },
  {
   "cell_type": "code",
   "execution_count": 2,
   "id": "ce06a387-6ca7-4f74-b15d-5bf930db62f7",
   "metadata": {},
   "outputs": [
    {
     "name": "stdout",
     "output_type": "stream",
     "text": [
      "a    2\n",
      "b    3\n",
      "c    2\n",
      "d    1\n",
      "e    3\n",
      "f    4\n",
      "g    5\n",
      "h    6\n",
      "Name: anything, dtype: int64\n"
     ]
    }
   ],
   "source": [
    "x=[2,3,2,1,3,4,5,6]\n",
    "var=pd.Series(x,index=[\"a\",\"b\",\"c\",\"d\",\"e\",\"f\",\"g\",\"h\"],name=\"anything\")\n",
    "print(var)"
   ]
  },
  {
   "cell_type": "code",
   "execution_count": 3,
   "id": "0f6e3838-863c-4a48-975f-70dd8bb713fa",
   "metadata": {},
   "outputs": [
    {
     "data": {
      "text/plain": [
       "pandas.core.series.Series"
      ]
     },
     "execution_count": 3,
     "metadata": {},
     "output_type": "execute_result"
    }
   ],
   "source": [
    "type(var)"
   ]
  },
  {
   "cell_type": "code",
   "execution_count": 4,
   "id": "4ebea553-4cae-4682-a2cd-8aec5a5c1e90",
   "metadata": {},
   "outputs": [
    {
     "name": "stdout",
     "output_type": "stream",
     "text": [
      "3\n"
     ]
    },
    {
     "name": "stderr",
     "output_type": "stream",
     "text": [
      "/var/folders/1w/8b8h2jvn4pgfhr2ptd4rjg0w0000gn/T/ipykernel_22463/1315522228.py:1: FutureWarning: Series.__getitem__ treating keys as positions is deprecated. In a future version, integer keys will always be treated as labels (consistent with DataFrame behavior). To access a value by position, use `ser.iloc[pos]`\n",
      "  print(var[4])\n"
     ]
    }
   ],
   "source": [
    "print(var[4])"
   ]
  },
  {
   "cell_type": "code",
   "execution_count": 5,
   "id": "d2c9e930-2350-4855-90f6-da3b17777b72",
   "metadata": {},
   "outputs": [
    {
     "name": "stderr",
     "output_type": "stream",
     "text": [
      "/var/folders/1w/8b8h2jvn4pgfhr2ptd4rjg0w0000gn/T/ipykernel_22463/1349308763.py:1: FutureWarning: Series.__setitem__ treating keys as positions is deprecated. In a future version, integer keys will always be treated as labels (consistent with DataFrame behavior). To set a value by position, use `ser.iloc[pos] = value`\n",
      "  var[3]=5\n"
     ]
    }
   ],
   "source": [
    "var[3]=5"
   ]
  },
  {
   "cell_type": "code",
   "execution_count": 6,
   "id": "aa40a9d7-3416-4a55-be10-051dc97272a9",
   "metadata": {},
   "outputs": [
    {
     "data": {
      "text/plain": [
       "a    2\n",
       "b    3\n",
       "c    2\n",
       "d    5\n",
       "e    3\n",
       "f    4\n",
       "g    5\n",
       "h    6\n",
       "Name: anything, dtype: int64"
      ]
     },
     "execution_count": 6,
     "metadata": {},
     "output_type": "execute_result"
    }
   ],
   "source": [
    "var"
   ]
  },
  {
   "cell_type": "code",
   "execution_count": 7,
   "id": "01138e7a-3ef8-4c8c-87d9-684a9b670e9d",
   "metadata": {},
   "outputs": [
    {
     "name": "stderr",
     "output_type": "stream",
     "text": [
      "/var/folders/1w/8b8h2jvn4pgfhr2ptd4rjg0w0000gn/T/ipykernel_22463/910441985.py:1: FutureWarning: Series.__setitem__ treating keys as positions is deprecated. In a future version, integer keys will always be treated as labels (consistent with DataFrame behavior). To set a value by position, use `ser.iloc[pos] = value`\n",
      "  var[2]=6\n"
     ]
    }
   ],
   "source": [
    "var[2]=6"
   ]
  },
  {
   "cell_type": "code",
   "execution_count": 9,
   "id": "b2ba0fd3-23cb-40bd-b6a9-f2dc7e8dff18",
   "metadata": {},
   "outputs": [
    {
     "name": "stdout",
     "output_type": "stream",
     "text": [
      "name    [prabin, harry, ram]\n",
      "age             [21, 28, 26]\n",
      "dtype: object\n",
      "<class 'pandas.core.series.Series'>\n"
     ]
    }
   ],
   "source": [
    "dic={\"name\":['prabin','harry','ram'],\"age\":[21,28,26]}\n",
    "a=pd.Series(dic)\n",
    "print(a)\n",
    "print(type(a))"
   ]
  },
  {
   "cell_type": "code",
   "execution_count": 12,
   "id": "9a3c772f-4bd7-4655-b0b2-9f8db9f13f92",
   "metadata": {},
   "outputs": [
    {
     "name": "stdout",
     "output_type": "stream",
     "text": [
      "1    12\n",
      "2    12\n",
      "3    12\n",
      "4    12\n",
      "5    12\n",
      "6    12\n",
      "7    12\n",
      "8    12\n",
      "dtype: int64\n",
      "1    12\n",
      "2    12\n",
      "3    12\n",
      "4    12\n",
      "5    12\n",
      "6    12\n",
      "7    12\n",
      "8    12\n",
      "dtype: int64\n"
     ]
    }
   ],
   "source": [
    "s1=pd.Series(12,index=[1,2,3,4,5,6,7,8])\n",
    "s2=pd.Series(12,index=[1,2,3,4,5,6,7,8])\n",
    "print(s1)\n",
    "print(s2)"
   ]
  },
  {
   "cell_type": "code",
   "execution_count": 13,
   "id": "787d2d71-e09f-4f03-bc26-f7503f9bb469",
   "metadata": {},
   "outputs": [
    {
     "name": "stdout",
     "output_type": "stream",
     "text": [
      "1    24\n",
      "2    24\n",
      "3    24\n",
      "4    24\n",
      "5    24\n",
      "6    24\n",
      "7    24\n",
      "8    24\n",
      "dtype: int64\n"
     ]
    }
   ],
   "source": [
    "print(s1+s2)\n"
   ]
  },
  {
   "cell_type": "code",
   "execution_count": 16,
   "id": "1923f52c-37c9-416c-929d-c99782c55f60",
   "metadata": {},
   "outputs": [],
   "source": [
    "s3=pd.Series([1,2,3,4],index=['a','b','c','d'])"
   ]
  },
  {
   "cell_type": "code",
   "execution_count": 17,
   "id": "8e1bccb5-1639-44bd-847d-db8af1ef96ab",
   "metadata": {},
   "outputs": [
    {
     "name": "stdout",
     "output_type": "stream",
     "text": [
      "a    1\n",
      "b    2\n",
      "c    3\n",
      "d    4\n",
      "dtype: int64\n"
     ]
    }
   ],
   "source": [
    "print(s3)"
   ]
  },
  {
   "cell_type": "code",
   "execution_count": 18,
   "id": "7f17ae22-69d2-4c8c-8d57-b2cea5401af1",
   "metadata": {},
   "outputs": [
    {
     "name": "stdout",
     "output_type": "stream",
     "text": [
      "1   NaN\n",
      "2   NaN\n",
      "3   NaN\n",
      "4   NaN\n",
      "5   NaN\n",
      "6   NaN\n",
      "7   NaN\n",
      "8   NaN\n",
      "a   NaN\n",
      "b   NaN\n",
      "c   NaN\n",
      "d   NaN\n",
      "dtype: float64\n"
     ]
    }
   ],
   "source": [
    "print(s2+s3)"
   ]
  },
  {
   "cell_type": "code",
   "execution_count": 19,
   "id": "baeab5d1-a826-41f6-ad18-3f93a2aef5db",
   "metadata": {},
   "outputs": [],
   "source": [
    "s4=pd.Series([1,2,3,4],index=[1,2,3,4])\n"
   ]
  },
  {
   "cell_type": "code",
   "execution_count": 20,
   "id": "01e988bc-1f8b-40e2-a040-a203e7ca7ae1",
   "metadata": {},
   "outputs": [
    {
     "data": {
      "text/plain": [
       "1    1\n",
       "2    2\n",
       "3    3\n",
       "4    4\n",
       "dtype: int64"
      ]
     },
     "execution_count": 20,
     "metadata": {},
     "output_type": "execute_result"
    }
   ],
   "source": [
    "s4"
   ]
  },
  {
   "cell_type": "code",
   "execution_count": 21,
   "id": "276659a0-4ca8-46fe-9d36-14185f5d740a",
   "metadata": {},
   "outputs": [
    {
     "name": "stdout",
     "output_type": "stream",
     "text": [
      "1    13.0\n",
      "2    14.0\n",
      "3    15.0\n",
      "4    16.0\n",
      "5     NaN\n",
      "6     NaN\n",
      "7     NaN\n",
      "8     NaN\n",
      "dtype: float64\n"
     ]
    }
   ],
   "source": [
    "print(s1+s4)"
   ]
  },
  {
   "cell_type": "code",
   "execution_count": 24,
   "id": "c9e51503-a684-4ffa-a6c3-8790df507cf5",
   "metadata": {},
   "outputs": [],
   "source": [
    "dic={\"name\":['robert','murphy','halen'],\"age\":[12,3,4]}\n"
   ]
  },
  {
   "cell_type": "code",
   "execution_count": 25,
   "id": "0fc103a3-20a7-4d57-b7ad-92ebe89aaf8f",
   "metadata": {},
   "outputs": [],
   "source": [
    "arr=pd.Series(dic)"
   ]
  },
  {
   "cell_type": "code",
   "execution_count": 26,
   "id": "bd6d679b-4a97-491a-a32e-290965282a1d",
   "metadata": {},
   "outputs": [
    {
     "data": {
      "text/plain": [
       "name    [robert, murphy, halen]\n",
       "age                  [12, 3, 4]\n",
       "dtype: object"
      ]
     },
     "execution_count": 26,
     "metadata": {},
     "output_type": "execute_result"
    }
   ],
   "source": [
    "arr"
   ]
  },
  {
   "cell_type": "code",
   "execution_count": 27,
   "id": "94580be5-317f-45fd-9d10-c15584ca894d",
   "metadata": {},
   "outputs": [
    {
     "name": "stdout",
     "output_type": "stream",
     "text": [
      "name    [prabin, harry, ram, robert, murphy, halen]\n",
      "age                          [21, 28, 26, 12, 3, 4]\n",
      "dtype: object\n"
     ]
    }
   ],
   "source": [
    "print(a+arr)"
   ]
  },
  {
   "cell_type": "code",
   "execution_count": null,
   "id": "2295bb58-a52f-4a8b-9aa0-74cb115b9096",
   "metadata": {},
   "outputs": [],
   "source": []
  }
 ],
 "metadata": {
  "kernelspec": {
   "display_name": "Python 3 (ipykernel)",
   "language": "python",
   "name": "python3"
  },
  "language_info": {
   "codemirror_mode": {
    "name": "ipython",
    "version": 3
   },
   "file_extension": ".py",
   "mimetype": "text/x-python",
   "name": "python",
   "nbconvert_exporter": "python",
   "pygments_lexer": "ipython3",
   "version": "3.12.1"
  }
 },
 "nbformat": 4,
 "nbformat_minor": 5
}
