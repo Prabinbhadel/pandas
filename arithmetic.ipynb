{
 "cells": [
  {
   "cell_type": "markdown",
   "id": "dd92845a-fad6-4131-9c47-008dd8f874a2",
   "metadata": {},
   "source": [
    "# ARITHMETIC OPERATION"
   ]
  },
  {
   "cell_type": "code",
   "execution_count": 1,
   "id": "63847e69-6194-4a2d-9eed-feccc17d78fa",
   "metadata": {},
   "outputs": [],
   "source": [
    "import pandas as pd"
   ]
  },
  {
   "cell_type": "code",
   "execution_count": 3,
   "id": "a5d24c7b-9fd2-4fab-9676-b00c1924618e",
   "metadata": {},
   "outputs": [],
   "source": [
    "var=pd.DataFrame({\"a\":[1,2,3,4,5],\"b\":[11,12,13,14,15]})"
   ]
  },
  {
   "cell_type": "code",
   "execution_count": 4,
   "id": "46108b17-831e-4075-a44b-15aa5eb8b30e",
   "metadata": {},
   "outputs": [
    {
     "data": {
      "text/html": [
       "<div>\n",
       "<style scoped>\n",
       "    .dataframe tbody tr th:only-of-type {\n",
       "        vertical-align: middle;\n",
       "    }\n",
       "\n",
       "    .dataframe tbody tr th {\n",
       "        vertical-align: top;\n",
       "    }\n",
       "\n",
       "    .dataframe thead th {\n",
       "        text-align: right;\n",
       "    }\n",
       "</style>\n",
       "<table border=\"1\" class=\"dataframe\">\n",
       "  <thead>\n",
       "    <tr style=\"text-align: right;\">\n",
       "      <th></th>\n",
       "      <th>a</th>\n",
       "      <th>b</th>\n",
       "    </tr>\n",
       "  </thead>\n",
       "  <tbody>\n",
       "    <tr>\n",
       "      <th>0</th>\n",
       "      <td>1</td>\n",
       "      <td>11</td>\n",
       "    </tr>\n",
       "    <tr>\n",
       "      <th>1</th>\n",
       "      <td>2</td>\n",
       "      <td>12</td>\n",
       "    </tr>\n",
       "    <tr>\n",
       "      <th>2</th>\n",
       "      <td>3</td>\n",
       "      <td>13</td>\n",
       "    </tr>\n",
       "    <tr>\n",
       "      <th>3</th>\n",
       "      <td>4</td>\n",
       "      <td>14</td>\n",
       "    </tr>\n",
       "    <tr>\n",
       "      <th>4</th>\n",
       "      <td>5</td>\n",
       "      <td>15</td>\n",
       "    </tr>\n",
       "  </tbody>\n",
       "</table>\n",
       "</div>"
      ],
      "text/plain": [
       "   a   b\n",
       "0  1  11\n",
       "1  2  12\n",
       "2  3  13\n",
       "3  4  14\n",
       "4  5  15"
      ]
     },
     "execution_count": 4,
     "metadata": {},
     "output_type": "execute_result"
    }
   ],
   "source": [
    "var"
   ]
  },
  {
   "cell_type": "code",
   "execution_count": 6,
   "id": "d712c74f-23b3-4f78-bb00-9c73b1238c72",
   "metadata": {},
   "outputs": [
    {
     "data": {
      "text/plain": [
       "0    12\n",
       "1    14\n",
       "2    16\n",
       "3    18\n",
       "4    20\n",
       "dtype: int64"
      ]
     },
     "execution_count": 6,
     "metadata": {},
     "output_type": "execute_result"
    }
   ],
   "source": [
    "var[\"a\"]+var[\"b\"]"
   ]
  },
  {
   "cell_type": "code",
   "execution_count": 7,
   "id": "bc0b9a43-4962-4140-b32e-4e61204e8fd3",
   "metadata": {},
   "outputs": [
    {
     "name": "stdout",
     "output_type": "stream",
     "text": [
      "   a   b   c\n",
      "0  1  11  12\n",
      "1  2  12  14\n",
      "2  3  13  16\n",
      "3  4  14  18\n",
      "4  5  15  20\n"
     ]
    }
   ],
   "source": [
    "var[\"c\"]=var[\"a\"]+var[\"b\"]\n",
    "print(var)"
   ]
  },
  {
   "cell_type": "code",
   "execution_count": 8,
   "id": "42adab57-bdba-4d64-bd51-08dd55c40e2c",
   "metadata": {},
   "outputs": [],
   "source": [
    "var[\"d\"]=var[\"a\"]*var[\"c\"]"
   ]
  },
  {
   "cell_type": "code",
   "execution_count": 9,
   "id": "4fc6a303-4a77-4b4c-8cd0-9e3afc5e3813",
   "metadata": {},
   "outputs": [
    {
     "name": "stdout",
     "output_type": "stream",
     "text": [
      "   a   b   c    d\n",
      "0  1  11  12   12\n",
      "1  2  12  14   28\n",
      "2  3  13  16   48\n",
      "3  4  14  18   72\n",
      "4  5  15  20  100\n"
     ]
    }
   ],
   "source": [
    "print(var)"
   ]
  },
  {
   "cell_type": "code",
   "execution_count": 11,
   "id": "2baa4832-6897-4a20-8e31-33c690a2ee82",
   "metadata": {},
   "outputs": [],
   "source": [
    "var[\"test\"]=var[\"a\"]*var[\"b\"]<=30"
   ]
  },
  {
   "cell_type": "code",
   "execution_count": 12,
   "id": "f909428a-4924-4d90-b388-d0353d5c56d0",
   "metadata": {},
   "outputs": [
    {
     "name": "stdout",
     "output_type": "stream",
     "text": [
      "   a   b   c    d   test\n",
      "0  1  11  12   12   True\n",
      "1  2  12  14   28   True\n",
      "2  3  13  16   48  False\n",
      "3  4  14  18   72  False\n",
      "4  5  15  20  100  False\n"
     ]
    }
   ],
   "source": [
    "print(var)"
   ]
  },
  {
   "cell_type": "code",
   "execution_count": null,
   "id": "55fa3fcc-b59e-44e4-8de3-d648af3e74fb",
   "metadata": {},
   "outputs": [],
   "source": []
  }
 ],
 "metadata": {
  "kernelspec": {
   "display_name": "Python 3 (ipykernel)",
   "language": "python",
   "name": "python3"
  },
  "language_info": {
   "codemirror_mode": {
    "name": "ipython",
    "version": 3
   },
   "file_extension": ".py",
   "mimetype": "text/x-python",
   "name": "python",
   "nbconvert_exporter": "python",
   "pygments_lexer": "ipython3",
   "version": "3.12.1"
  }
 },
 "nbformat": 4,
 "nbformat_minor": 5
}
